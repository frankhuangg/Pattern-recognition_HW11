{
  "nbformat": 4,
  "nbformat_minor": 0,
  "metadata": {
    "colab": {
      "provenance": [],
      "authorship_tag": "ABX9TyOEwoKs+xKUIj/79lFayApe",
      "include_colab_link": true
    },
    "kernelspec": {
      "name": "python3",
      "display_name": "Python 3"
    },
    "language_info": {
      "name": "python"
    },
    "accelerator": "GPU",
    "gpuClass": "standard"
  },
  "cells": [
    {
      "cell_type": "markdown",
      "metadata": {
        "id": "view-in-github",
        "colab_type": "text"
      },
      "source": [
        "<a href=\"https://colab.research.google.com/github/frankhuangg/Pattern-recognition_HW11/blob/main/Untitled7.ipynb\" target=\"_parent\"><img src=\"https://colab.research.google.com/assets/colab-badge.svg\" alt=\"Open In Colab\"/></a>"
      ]
    },
    {
      "cell_type": "code",
      "execution_count": 1,
      "metadata": {
        "colab": {
          "base_uri": "https://localhost:8080/"
        },
        "id": "9Wf518VsrXHA",
        "outputId": "4172c0b3-2890-4c1b-f5ce-a5e1bc3d8065"
      },
      "outputs": [
        {
          "output_type": "stream",
          "name": "stdout",
          "text": [
            "  % Total    % Received % Xferd  Average Speed   Time    Time     Time  Current\n",
            "                                 Dload  Upload   Total   Spent    Left  Speed\n",
            "100 80.2M  100 80.2M    0     0  10.3M      0  0:00:07  0:00:07 --:--:-- 18.6M\n"
          ]
        }
      ],
      "source": [
        "!curl -O https://ai.stanford.edu/~amaas/data/sentiment/aclImdb_v1.tar.gz\n",
        "!tar -xf aclImdb_v1.tar.gz\n",
        "!rm -r aclImdb/train/unsup"
      ]
    },
    {
      "cell_type": "code",
      "source": [
        "import os, pathlib, shutil, random\n",
        "from tensorflow import keras\n",
        "batch_size = 32\n",
        "base_dir = pathlib.Path(\"aclImdb\")\n",
        "val_dir = base_dir / \"val\"\n",
        "train_dir = base_dir / \"train\"\n",
        "for category in (\"neg\", \"pos\"):\n",
        "    os.makedirs(val_dir / category,exist_ok=True)\n",
        "    files = os.listdir(train_dir / category)\n",
        "    random.Random(1337).shuffle(files)\n",
        "    num_val_samples = int(0.2 * len(files))\n",
        "    val_files = files[-num_val_samples:]\n",
        "    for fname in val_files:\n",
        "        shutil.move(train_dir / category / fname,\n",
        "                    val_dir / category / fname)\n",
        "\n",
        "train_ds = keras.utils.text_dataset_from_directory(\n",
        "    \"aclImdb/train\", batch_size=batch_size\n",
        ")\n",
        "val_ds = keras.utils.text_dataset_from_directory(\n",
        "    \"aclImdb/val\", batch_size=batch_size\n",
        ")\n",
        "test_ds = keras.utils.text_dataset_from_directory(\n",
        "    \"aclImdb/test\", batch_size=batch_size\n",
        ")\n",
        "text_only_train_ds = train_ds.map(lambda x, y: x)"
      ],
      "metadata": {
        "colab": {
          "base_uri": "https://localhost:8080/"
        },
        "id": "iv6KPFpxrblg",
        "outputId": "c0bbd188-cf6c-4187-8317-93148c93980c"
      },
      "execution_count": 2,
      "outputs": [
        {
          "output_type": "stream",
          "name": "stdout",
          "text": [
            "Found 20000 files belonging to 2 classes.\n",
            "Found 5000 files belonging to 2 classes.\n",
            "Found 25000 files belonging to 2 classes.\n"
          ]
        }
      ]
    },
    {
      "cell_type": "code",
      "source": [
        "from tensorflow.keras import layers\n",
        "\n",
        "max_length = 600\n",
        "max_tokens = 20000\n",
        "text_vectorization = layers.TextVectorization(\n",
        "    max_tokens=max_tokens,\n",
        "    output_mode=\"int\",\n",
        "    output_sequence_length=max_length,\n",
        ")\n",
        "text_vectorization.adapt(text_only_train_ds)\n",
        "\n",
        "int_train_ds = train_ds.map(\n",
        "    lambda x, y: (text_vectorization(x), y),\n",
        "    num_parallel_calls=4)\n",
        "int_val_ds = val_ds.map(\n",
        "    lambda x, y: (text_vectorization(x), y),\n",
        "    num_parallel_calls=4)\n",
        "int_test_ds = test_ds.map(\n",
        "    lambda x, y: (text_vectorization(x), y),\n",
        "    num_parallel_calls=4)"
      ],
      "metadata": {
        "id": "vCtQBcO1rbjo"
      },
      "execution_count": 3,
      "outputs": []
    },
    {
      "cell_type": "code",
      "source": [
        "import tensorflow as tf\n",
        "inputs = keras.Input(shape=(None,), dtype=\"int64\")\n",
        "embedded = tf.one_hot(inputs, depth=max_tokens)\n",
        "x = layers.Bidirectional(layers.LSTM(32))(embedded)\n",
        "x = layers.Dropout(0.5)(x)\n",
        "outputs = layers.Dense(1, activation=\"sigmoid\")(x)\n",
        "model = keras.Model(inputs, outputs)\n",
        "model.compile(optimizer=\"rmsprop\",\n",
        "              loss=\"binary_crossentropy\",\n",
        "              metrics=[\"accuracy\"])\n",
        "model.summary()"
      ],
      "metadata": {
        "colab": {
          "base_uri": "https://localhost:8080/"
        },
        "id": "HXHlQrmTrbhg",
        "outputId": "67f614a8-b6a8-48bd-f575-e7a58b732b5c"
      },
      "execution_count": 4,
      "outputs": [
        {
          "output_type": "stream",
          "name": "stdout",
          "text": [
            "Model: \"model\"\n",
            "_________________________________________________________________\n",
            " Layer (type)                Output Shape              Param #   \n",
            "=================================================================\n",
            " input_1 (InputLayer)        [(None, None)]            0         \n",
            "                                                                 \n",
            " tf.one_hot (TFOpLambda)     (None, None, 20000)       0         \n",
            "                                                                 \n",
            " bidirectional (Bidirectiona  (None, 64)               5128448   \n",
            " l)                                                              \n",
            "                                                                 \n",
            " dropout (Dropout)           (None, 64)                0         \n",
            "                                                                 \n",
            " dense (Dense)               (None, 1)                 65        \n",
            "                                                                 \n",
            "=================================================================\n",
            "Total params: 5,128,513\n",
            "Trainable params: 5,128,513\n",
            "Non-trainable params: 0\n",
            "_________________________________________________________________\n"
          ]
        }
      ]
    },
    {
      "cell_type": "code",
      "source": [
        "callbacks = [\n",
        "    keras.callbacks.ModelCheckpoint(\"one_hot_bidir_lstm.keras\",\n",
        "                                    save_best_only=True)\n",
        "]\n",
        "model.fit(int_train_ds, validation_data=int_val_ds, epochs=10, callbacks=callbacks)\n",
        "model = keras.models.load_model(\"one_hot_bidir_lstm.keras\")\n",
        "print(f\"Test acc: {model.evaluate(int_test_ds)[1]:.3f}\")"
      ],
      "metadata": {
        "colab": {
          "base_uri": "https://localhost:8080/"
        },
        "id": "332SJyFkrbfT",
        "outputId": "f3ca3425-cb07-460d-b49d-77a524584217"
      },
      "execution_count": 5,
      "outputs": [
        {
          "output_type": "stream",
          "name": "stdout",
          "text": [
            "Epoch 1/10\n",
            "625/625 [==============================] - 175s 268ms/step - loss: 0.5189 - accuracy: 0.7526 - val_loss: 0.8734 - val_accuracy: 0.7128\n",
            "Epoch 2/10\n",
            "625/625 [==============================] - 167s 267ms/step - loss: 0.3432 - accuracy: 0.8779 - val_loss: 0.3105 - val_accuracy: 0.8862\n",
            "Epoch 3/10\n",
            "625/625 [==============================] - 167s 268ms/step - loss: 0.2755 - accuracy: 0.9021 - val_loss: 0.3037 - val_accuracy: 0.8898\n",
            "Epoch 4/10\n",
            "625/625 [==============================] - 166s 266ms/step - loss: 0.2399 - accuracy: 0.9201 - val_loss: 0.3579 - val_accuracy: 0.8422\n",
            "Epoch 5/10\n",
            "625/625 [==============================] - 167s 267ms/step - loss: 0.2110 - accuracy: 0.9299 - val_loss: 0.2929 - val_accuracy: 0.8810\n",
            "Epoch 6/10\n",
            "625/625 [==============================] - 168s 269ms/step - loss: 0.1972 - accuracy: 0.9372 - val_loss: 0.3828 - val_accuracy: 0.8824\n",
            "Epoch 7/10\n",
            "625/625 [==============================] - 166s 266ms/step - loss: 0.1654 - accuracy: 0.9456 - val_loss: 0.3093 - val_accuracy: 0.8964\n",
            "Epoch 8/10\n",
            "625/625 [==============================] - 167s 268ms/step - loss: 0.1588 - accuracy: 0.9475 - val_loss: 0.5029 - val_accuracy: 0.8780\n",
            "Epoch 9/10\n",
            "625/625 [==============================] - 167s 268ms/step - loss: 0.1522 - accuracy: 0.9513 - val_loss: 0.4318 - val_accuracy: 0.8852\n",
            "Epoch 10/10\n",
            "625/625 [==============================] - 168s 269ms/step - loss: 0.1251 - accuracy: 0.9597 - val_loss: 0.4101 - val_accuracy: 0.8902\n",
            "782/782 [==============================] - 102s 129ms/step - loss: 0.3270 - accuracy: 0.8617\n",
            "Test acc: 0.862\n"
          ]
        }
      ]
    },
    {
      "cell_type": "code",
      "source": [
        "embedding_layer = layers.Embedding(input_dim=max_tokens, output_dim=256)"
      ],
      "metadata": {
        "id": "lHKOiZg4rbdC"
      },
      "execution_count": 6,
      "outputs": []
    },
    {
      "cell_type": "code",
      "source": [
        "inputs = keras.Input(shape=(None,), dtype=\"int64\")\n",
        "embedded = layers.Embedding(input_dim=max_tokens, output_dim=256)(inputs)\n",
        "x = layers.Bidirectional(layers.LSTM(32))(embedded)\n",
        "x = layers.Dropout(0.5)(x)\n",
        "outputs = layers.Dense(1, activation=\"sigmoid\")(x)\n",
        "model = keras.Model(inputs, outputs)\n",
        "model.compile(optimizer=\"rmsprop\",\n",
        "              loss=\"binary_crossentropy\",\n",
        "              metrics=[\"accuracy\"])\n",
        "model.summary()\n",
        "\n",
        "callbacks = [\n",
        "    keras.callbacks.ModelCheckpoint(\"embeddings_bidir_gru.keras\",\n",
        "                                    save_best_only=True)\n",
        "]\n",
        "model.fit(int_train_ds, validation_data=int_val_ds, epochs=10, callbacks=callbacks)\n",
        "model = keras.models.load_model(\"embeddings_bidir_gru.keras\")\n",
        "print(f\"Test acc: {model.evaluate(int_test_ds)[1]:.3f}\")\n"
      ],
      "metadata": {
        "colab": {
          "base_uri": "https://localhost:8080/"
        },
        "id": "sFi5wrhvrba0",
        "outputId": "1191a992-9ab4-4dce-d6ef-92315b1b2a9a"
      },
      "execution_count": 7,
      "outputs": [
        {
          "output_type": "stream",
          "name": "stdout",
          "text": [
            "Model: \"model_1\"\n",
            "_________________________________________________________________\n",
            " Layer (type)                Output Shape              Param #   \n",
            "=================================================================\n",
            " input_2 (InputLayer)        [(None, None)]            0         \n",
            "                                                                 \n",
            " embedding_1 (Embedding)     (None, None, 256)         5120000   \n",
            "                                                                 \n",
            " bidirectional_1 (Bidirectio  (None, 64)               73984     \n",
            " nal)                                                            \n",
            "                                                                 \n",
            " dropout_1 (Dropout)         (None, 64)                0         \n",
            "                                                                 \n",
            " dense_1 (Dense)             (None, 1)                 65        \n",
            "                                                                 \n",
            "=================================================================\n",
            "Total params: 5,194,049\n",
            "Trainable params: 5,194,049\n",
            "Non-trainable params: 0\n",
            "_________________________________________________________________\n",
            "Epoch 1/10\n",
            "625/625 [==============================] - 42s 61ms/step - loss: 0.4715 - accuracy: 0.7922 - val_loss: 0.3466 - val_accuracy: 0.8672\n",
            "Epoch 2/10\n",
            "625/625 [==============================] - 37s 59ms/step - loss: 0.3226 - accuracy: 0.8841 - val_loss: 0.3524 - val_accuracy: 0.8546\n",
            "Epoch 3/10\n",
            "625/625 [==============================] - 35s 56ms/step - loss: 0.2480 - accuracy: 0.9119 - val_loss: 0.3223 - val_accuracy: 0.8794\n",
            "Epoch 4/10\n",
            "625/625 [==============================] - 37s 58ms/step - loss: 0.2192 - accuracy: 0.9288 - val_loss: 0.3172 - val_accuracy: 0.8858\n",
            "Epoch 5/10\n",
            "625/625 [==============================] - 36s 58ms/step - loss: 0.1768 - accuracy: 0.9398 - val_loss: 0.3580 - val_accuracy: 0.8780\n",
            "Epoch 6/10\n",
            "625/625 [==============================] - 33s 52ms/step - loss: 0.1513 - accuracy: 0.9488 - val_loss: 0.4754 - val_accuracy: 0.8618\n",
            "Epoch 7/10\n",
            "625/625 [==============================] - 33s 53ms/step - loss: 0.1266 - accuracy: 0.9608 - val_loss: 0.4181 - val_accuracy: 0.8876\n",
            "Epoch 8/10\n",
            "625/625 [==============================] - 33s 52ms/step - loss: 0.1098 - accuracy: 0.9659 - val_loss: 0.4952 - val_accuracy: 0.8684\n",
            "Epoch 9/10\n",
            "625/625 [==============================] - 33s 53ms/step - loss: 0.0899 - accuracy: 0.9722 - val_loss: 0.4267 - val_accuracy: 0.8830\n",
            "Epoch 10/10\n",
            "625/625 [==============================] - 35s 56ms/step - loss: 0.0784 - accuracy: 0.9769 - val_loss: 0.4309 - val_accuracy: 0.8804\n",
            "782/782 [==============================] - 28s 34ms/step - loss: 0.3664 - accuracy: 0.8642\n",
            "Test acc: 0.864\n"
          ]
        }
      ]
    },
    {
      "cell_type": "code",
      "source": [
        "inputs = keras.Input(shape=(None,), dtype=\"int64\")\n",
        "embedded = layers.Embedding(\n",
        "    input_dim=max_tokens, output_dim=256, mask_zero=True)(inputs)\n",
        "x = layers.Bidirectional(layers.LSTM(32))(embedded)\n",
        "x = layers.Dropout(0.5)(x)\n",
        "outputs = layers.Dense(1, activation=\"sigmoid\")(x)\n",
        "model = keras.Model(inputs, outputs)\n",
        "model.compile(optimizer=\"rmsprop\",\n",
        "              loss=\"binary_crossentropy\",\n",
        "              metrics=[\"accuracy\"])\n",
        "model.summary()\n",
        "\n",
        "callbacks = [\n",
        "    keras.callbacks.ModelCheckpoint(\"embeddings_bidir_gru_with_masking.keras\",\n",
        "                                    save_best_only=True)\n",
        "]\n",
        "model.fit(int_train_ds, validation_data=int_val_ds, epochs=10, callbacks=callbacks)\n",
        "model = keras.models.load_model(\"embeddings_bidir_gru_with_masking.keras\")\n",
        "print(f\"Test acc: {model.evaluate(int_test_ds)[1]:.3f}\")\n"
      ],
      "metadata": {
        "colab": {
          "base_uri": "https://localhost:8080/"
        },
        "id": "GayE78ATrbYd",
        "outputId": "c9f1d054-1cf9-4b4a-96b1-c9239ae5e7fb"
      },
      "execution_count": 8,
      "outputs": [
        {
          "output_type": "stream",
          "name": "stdout",
          "text": [
            "Model: \"model_2\"\n",
            "_________________________________________________________________\n",
            " Layer (type)                Output Shape              Param #   \n",
            "=================================================================\n",
            " input_3 (InputLayer)        [(None, None)]            0         \n",
            "                                                                 \n",
            " embedding_2 (Embedding)     (None, None, 256)         5120000   \n",
            "                                                                 \n",
            " bidirectional_2 (Bidirectio  (None, 64)               73984     \n",
            " nal)                                                            \n",
            "                                                                 \n",
            " dropout_2 (Dropout)         (None, 64)                0         \n",
            "                                                                 \n",
            " dense_2 (Dense)             (None, 1)                 65        \n",
            "                                                                 \n",
            "=================================================================\n",
            "Total params: 5,194,049\n",
            "Trainable params: 5,194,049\n",
            "Non-trainable params: 0\n",
            "_________________________________________________________________\n",
            "Epoch 1/10\n",
            "625/625 [==============================] - 44s 60ms/step - loss: 0.3968 - accuracy: 0.8210 - val_loss: 0.2799 - val_accuracy: 0.8878\n",
            "Epoch 2/10\n",
            "625/625 [==============================] - 35s 57ms/step - loss: 0.2284 - accuracy: 0.9111 - val_loss: 0.2830 - val_accuracy: 0.8880\n",
            "Epoch 3/10\n",
            "625/625 [==============================] - 36s 58ms/step - loss: 0.1688 - accuracy: 0.9369 - val_loss: 0.3456 - val_accuracy: 0.8730\n",
            "Epoch 4/10\n",
            "625/625 [==============================] - 37s 60ms/step - loss: 0.1263 - accuracy: 0.9537 - val_loss: 0.4428 - val_accuracy: 0.8546\n",
            "Epoch 5/10\n",
            "625/625 [==============================] - 38s 60ms/step - loss: 0.0972 - accuracy: 0.9662 - val_loss: 0.4109 - val_accuracy: 0.8814\n",
            "Epoch 6/10\n",
            "625/625 [==============================] - 36s 58ms/step - loss: 0.0709 - accuracy: 0.9761 - val_loss: 0.4201 - val_accuracy: 0.8730\n",
            "Epoch 7/10\n",
            "625/625 [==============================] - 37s 58ms/step - loss: 0.0496 - accuracy: 0.9835 - val_loss: 0.4977 - val_accuracy: 0.8734\n",
            "Epoch 8/10\n",
            "625/625 [==============================] - 37s 59ms/step - loss: 0.0337 - accuracy: 0.9891 - val_loss: 0.5280 - val_accuracy: 0.8642\n",
            "Epoch 9/10\n",
            "625/625 [==============================] - 37s 59ms/step - loss: 0.0268 - accuracy: 0.9921 - val_loss: 0.5256 - val_accuracy: 0.8696\n",
            "Epoch 10/10\n",
            "625/625 [==============================] - 37s 60ms/step - loss: 0.0178 - accuracy: 0.9941 - val_loss: 0.5636 - val_accuracy: 0.8722\n",
            "782/782 [==============================] - 25s 30ms/step - loss: 0.2927 - accuracy: 0.8823\n",
            "Test acc: 0.882\n"
          ]
        }
      ]
    },
    {
      "cell_type": "code",
      "source": [
        "!wget http://nlp.stanford.edu/data/glove.6B.zip\n",
        "!unzip -q glove.6B.zip\n"
      ],
      "metadata": {
        "colab": {
          "base_uri": "https://localhost:8080/"
        },
        "id": "csu-ewMorbWI",
        "outputId": "2ca3edc3-1bd7-47d9-b576-e86c87d9fb32"
      },
      "execution_count": 9,
      "outputs": [
        {
          "output_type": "stream",
          "name": "stdout",
          "text": [
            "--2022-12-13 14:22:04--  http://nlp.stanford.edu/data/glove.6B.zip\n",
            "Resolving nlp.stanford.edu (nlp.stanford.edu)... 171.64.67.140\n",
            "Connecting to nlp.stanford.edu (nlp.stanford.edu)|171.64.67.140|:80... connected.\n",
            "HTTP request sent, awaiting response... 302 Found\n",
            "Location: https://nlp.stanford.edu/data/glove.6B.zip [following]\n",
            "--2022-12-13 14:22:04--  https://nlp.stanford.edu/data/glove.6B.zip\n",
            "Connecting to nlp.stanford.edu (nlp.stanford.edu)|171.64.67.140|:443... connected.\n",
            "HTTP request sent, awaiting response... 301 Moved Permanently\n",
            "Location: https://downloads.cs.stanford.edu/nlp/data/glove.6B.zip [following]\n",
            "--2022-12-13 14:22:05--  https://downloads.cs.stanford.edu/nlp/data/glove.6B.zip\n",
            "Resolving downloads.cs.stanford.edu (downloads.cs.stanford.edu)... 171.64.64.22\n",
            "Connecting to downloads.cs.stanford.edu (downloads.cs.stanford.edu)|171.64.64.22|:443... connected.\n",
            "HTTP request sent, awaiting response... 200 OK\n",
            "Length: 862182613 (822M) [application/zip]\n",
            "Saving to: ‘glove.6B.zip’\n",
            "\n",
            "glove.6B.zip        100%[===================>] 822.24M  5.05MB/s    in 2m 39s  \n",
            "\n",
            "2022-12-13 14:24:44 (5.17 MB/s) - ‘glove.6B.zip’ saved [862182613/862182613]\n",
            "\n"
          ]
        }
      ]
    },
    {
      "cell_type": "code",
      "source": [
        "import numpy as np\n",
        "path_to_glove_file = \"glove.6B.100d.txt\"\n",
        "\n",
        "embeddings_index = {}\n",
        "with open(path_to_glove_file) as f:\n",
        "    for line in f:\n",
        "        word, coefs = line.split(maxsplit=1)\n",
        "        coefs = np.fromstring(coefs, \"f\", sep=\" \")\n",
        "        embeddings_index[word] = coefs\n",
        "\n",
        "print(f\"Found {len(embeddings_index)} word vectors.\")\n"
      ],
      "metadata": {
        "colab": {
          "base_uri": "https://localhost:8080/"
        },
        "id": "eSe75a3yrmf3",
        "outputId": "aec50177-cda1-4a43-a54a-128d63f68904"
      },
      "execution_count": 10,
      "outputs": [
        {
          "output_type": "stream",
          "name": "stdout",
          "text": [
            "Found 400000 word vectors.\n"
          ]
        }
      ]
    },
    {
      "cell_type": "code",
      "source": [
        "embedding_dim = 100\n",
        "\n",
        "vocabulary = text_vectorization.get_vocabulary()\n",
        "word_index = dict(zip(vocabulary, range(len(vocabulary))))\n",
        "\n",
        "embedding_matrix = np.zeros((max_tokens, embedding_dim))\n",
        "for word, i in word_index.items():\n",
        "    if i < max_tokens:\n",
        "        embedding_vector = embeddings_index.get(word)\n",
        "    if embedding_vector is not None:\n",
        "        embedding_matrix[i] = embedding_vector"
      ],
      "metadata": {
        "id": "6l8fS3uKrmdj"
      },
      "execution_count": 11,
      "outputs": []
    },
    {
      "cell_type": "code",
      "source": [
        "embedding_layer = layers.Embedding(\n",
        "    max_tokens,\n",
        "    embedding_dim,\n",
        "    embeddings_initializer=keras.initializers.Constant(embedding_matrix),\n",
        "    trainable=False,\n",
        "    mask_zero=True,\n",
        ")"
      ],
      "metadata": {
        "id": "EqVvhDFBrmbV"
      },
      "execution_count": 12,
      "outputs": []
    },
    {
      "cell_type": "code",
      "source": [
        "inputs = keras.Input(shape=(None,), dtype=\"int64\")\n",
        "embedded = embedding_layer(inputs)\n",
        "x = layers.Bidirectional(layers.LSTM(32))(embedded)\n",
        "x = layers.Dropout(0.5)(x)\n",
        "outputs = layers.Dense(1, activation=\"sigmoid\")(x)\n",
        "model = keras.Model(inputs, outputs)\n",
        "model.compile(optimizer=\"rmsprop\",\n",
        "              loss=\"binary_crossentropy\",\n",
        "              metrics=[\"accuracy\"])\n",
        "model.summary()\n",
        "\n",
        "callbacks = [\n",
        "    keras.callbacks.ModelCheckpoint(\"glove_embeddings_sequence_model.keras\",\n",
        "                                    save_best_only=True)\n",
        "]\n",
        "model.fit(int_train_ds, validation_data=int_val_ds, epochs=10, callbacks=callbacks)\n",
        "model = keras.models.load_model(\"glove_embeddings_sequence_model.keras\")\n",
        "print(f\"Test acc: {model.evaluate(int_test_ds)[1]:.3f}\")\n"
      ],
      "metadata": {
        "colab": {
          "base_uri": "https://localhost:8080/"
        },
        "id": "toJw-vVfrmZh",
        "outputId": "c5f786d9-f736-459c-d180-205ff507ebee"
      },
      "execution_count": 13,
      "outputs": [
        {
          "output_type": "stream",
          "name": "stdout",
          "text": [
            "Model: \"model_3\"\n",
            "_________________________________________________________________\n",
            " Layer (type)                Output Shape              Param #   \n",
            "=================================================================\n",
            " input_4 (InputLayer)        [(None, None)]            0         \n",
            "                                                                 \n",
            " embedding_3 (Embedding)     (None, None, 100)         2000000   \n",
            "                                                                 \n",
            " bidirectional_3 (Bidirectio  (None, 64)               34048     \n",
            " nal)                                                            \n",
            "                                                                 \n",
            " dropout_3 (Dropout)         (None, 64)                0         \n",
            "                                                                 \n",
            " dense_3 (Dense)             (None, 1)                 65        \n",
            "                                                                 \n",
            "=================================================================\n",
            "Total params: 2,034,113\n",
            "Trainable params: 34,113\n",
            "Non-trainable params: 2,000,000\n",
            "_________________________________________________________________\n",
            "Epoch 1/10\n",
            "625/625 [==============================] - 42s 55ms/step - loss: 0.5625 - accuracy: 0.7069 - val_loss: 0.5460 - val_accuracy: 0.7144\n",
            "Epoch 2/10\n",
            "625/625 [==============================] - 33s 53ms/step - loss: 0.4475 - accuracy: 0.7944 - val_loss: 0.3911 - val_accuracy: 0.8250\n",
            "Epoch 3/10\n",
            "625/625 [==============================] - 33s 53ms/step - loss: 0.3980 - accuracy: 0.8256 - val_loss: 0.5175 - val_accuracy: 0.7712\n",
            "Epoch 4/10\n",
            "625/625 [==============================] - 33s 53ms/step - loss: 0.3648 - accuracy: 0.8438 - val_loss: 0.3862 - val_accuracy: 0.8304\n",
            "Epoch 5/10\n",
            "625/625 [==============================] - 33s 53ms/step - loss: 0.3442 - accuracy: 0.8532 - val_loss: 0.3599 - val_accuracy: 0.8480\n",
            "Epoch 6/10\n",
            "625/625 [==============================] - 33s 53ms/step - loss: 0.3225 - accuracy: 0.8654 - val_loss: 0.3299 - val_accuracy: 0.8588\n",
            "Epoch 7/10\n",
            "625/625 [==============================] - 31s 50ms/step - loss: 0.3030 - accuracy: 0.8752 - val_loss: 0.3616 - val_accuracy: 0.8570\n",
            "Epoch 8/10\n",
            "625/625 [==============================] - 33s 53ms/step - loss: 0.2878 - accuracy: 0.8792 - val_loss: 0.3189 - val_accuracy: 0.8702\n",
            "Epoch 9/10\n",
            "625/625 [==============================] - 31s 50ms/step - loss: 0.2707 - accuracy: 0.8892 - val_loss: 0.3268 - val_accuracy: 0.8692\n",
            "Epoch 10/10\n",
            "625/625 [==============================] - 31s 49ms/step - loss: 0.2576 - accuracy: 0.8961 - val_loss: 0.3248 - val_accuracy: 0.8648\n",
            "782/782 [==============================] - 35s 41ms/step - loss: 0.3088 - accuracy: 0.8725\n",
            "Test acc: 0.873\n"
          ]
        }
      ]
    }
  ]
}